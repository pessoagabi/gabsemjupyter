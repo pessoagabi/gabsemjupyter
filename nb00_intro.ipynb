{
 "cells": [
  {
   "cell_type": "markdown",
   "metadata": {},
   "source": [
    "### Gabs em Jupyter\n",
    "\n",
    "Gabs, vamos estudar análises com Pandas, Numpy, Matplotlib e Seaborn?\n",
    "\n",
    "Eu não sou expert em nada disso (e você vai notar minha pouca aptidão por meio dos termos que uso), mas me viro bem. Por isso, vou fazer alguns notebooks para explicar conceitos das bibliotecas, modos de uso, boas práticas etc. Espero que aproveite.\n",
    "\n",
    "Eu separei esses notebooks em 'Análise' (em que estudaremos Pandas e Numpy) e 'Visualização de dados' (em que estudaremos Matplotlib e Seaborn).\n",
    "\n",
    "Vamos começar com 'Análise de dados'."
   ]
  },
  {
   "cell_type": "markdown",
   "metadata": {},
   "source": [
    "---\n",
    "**Pandas**\n",
    "\n",
    "Pandas é uma biblioteca de ferramentas para análises. Isso significa que, com Pandas, você pode, por exemplo:\n",
    "\n",
    "- agrupar ou segregar dados tabulados em colunas de tipos diferentes (por exemplo: tabela com nome de empresa (`string`), CNPJ (`string` se tiver símbolos gráficos; `integer` se for só números), logradouro (`string`), número (`integer`), valor de despesa (`float`));\n",
    "- manipular dados unidimensionais (uma coluna), que são chamados `Series`:"
   ]
  },
  {
   "cell_type": "code",
   "execution_count": 1,
   "metadata": {},
   "outputs": [],
   "source": [
    "import pandas as pd\n",
    "serie = pd.Series([-12, 3, 25, -4], index=['a', 'b', 'c', 'd'])"
   ]
  },
  {
   "cell_type": "code",
   "execution_count": 2,
   "metadata": {},
   "outputs": [
    {
     "data": {
      "text/plain": [
       "a   -12\n",
       "b     3\n",
       "c    25\n",
       "d    -4\n",
       "dtype: int64"
      ]
     },
     "execution_count": 2,
     "metadata": {},
     "output_type": "execute_result"
    }
   ],
   "source": [
    "serie"
   ]
  },
  {
   "cell_type": "markdown",
   "metadata": {},
   "source": [
    "- manipular dados bidimensionais (coluna e linha), que são chamados de `DataFrame`:"
   ]
  },
  {
   "cell_type": "code",
   "execution_count": 3,
   "metadata": {},
   "outputs": [
    {
     "data": {
      "text/plain": [
       "{'Estado de nascimento': ['Rio de Janeiro', 'São Paulo', 'Rio Grande do Sul'],\n",
       " 'Nome': ['Anna Virginia', 'Ivan', 'Aline'],\n",
       " 'Nota no coração da Gabs': [9.3, 8.8, 9.1]}"
      ]
     },
     "execution_count": 3,
     "metadata": {},
     "output_type": "execute_result"
    }
   ],
   "source": [
    "# Como os dados estão sem configuração de DataFrame:\n",
    "sem_df = {\n",
    "'Nome': ['Anna Virginia', 'Ivan', 'Aline'],\n",
    "'Estado de nascimento': ['Rio de Janeiro', 'São Paulo', 'Rio Grande do Sul'],\n",
    "'Nota no coração da Gabs': [9.3, 8.8, 9.1]}\n",
    "sem_df"
   ]
  },
  {
   "cell_type": "code",
   "execution_count": 4,
   "metadata": {},
   "outputs": [
    {
     "data": {
      "text/html": [
       "<div>\n",
       "<style scoped>\n",
       "    .dataframe tbody tr th:only-of-type {\n",
       "        vertical-align: middle;\n",
       "    }\n",
       "\n",
       "    .dataframe tbody tr th {\n",
       "        vertical-align: top;\n",
       "    }\n",
       "\n",
       "    .dataframe thead th {\n",
       "        text-align: right;\n",
       "    }\n",
       "</style>\n",
       "<table border=\"1\" class=\"dataframe\">\n",
       "  <thead>\n",
       "    <tr style=\"text-align: right;\">\n",
       "      <th></th>\n",
       "      <th>Nome</th>\n",
       "      <th>Estado de nascimento</th>\n",
       "      <th>Nota no coração da Gabs</th>\n",
       "    </tr>\n",
       "  </thead>\n",
       "  <tbody>\n",
       "    <tr>\n",
       "      <th>0</th>\n",
       "      <td>Anna Virginia</td>\n",
       "      <td>Rio de Janeiro</td>\n",
       "      <td>9.3</td>\n",
       "    </tr>\n",
       "    <tr>\n",
       "      <th>1</th>\n",
       "      <td>Ivan</td>\n",
       "      <td>São Paulo</td>\n",
       "      <td>8.8</td>\n",
       "    </tr>\n",
       "    <tr>\n",
       "      <th>2</th>\n",
       "      <td>Aline</td>\n",
       "      <td>Rio Grande do Sul</td>\n",
       "      <td>9.1</td>\n",
       "    </tr>\n",
       "  </tbody>\n",
       "</table>\n",
       "</div>"
      ],
      "text/plain": [
       "            Nome Estado de nascimento  Nota no coração da Gabs\n",
       "0  Anna Virginia       Rio de Janeiro                      9.3\n",
       "1           Ivan            São Paulo                      8.8\n",
       "2          Aline    Rio Grande do Sul                      9.1"
      ]
     },
     "execution_count": 4,
     "metadata": {},
     "output_type": "execute_result"
    }
   ],
   "source": [
    "# Como os dados ficam como DataFrame:\n",
    "df = pd.DataFrame(sem_df, columns=['Nome','Estado de nascimento','Nota no coração da Gabs'])\n",
    "df"
   ]
  },
  {
   "cell_type": "markdown",
   "metadata": {},
   "source": [
    "- obter estatísticas de uma coleção de dados, como média (`mean`), desvio-padrão (`std`), percentis (`25%`, `50%` e `75%`), valor mínimo (`min`) e valor máximo (`max`):"
   ]
  },
  {
   "cell_type": "code",
   "execution_count": 5,
   "metadata": {},
   "outputs": [
    {
     "data": {
      "text/plain": [
       "count    3.000000\n",
       "mean     9.066667\n",
       "std      0.251661\n",
       "min      8.800000\n",
       "25%      8.950000\n",
       "50%      9.100000\n",
       "75%      9.200000\n",
       "max      9.300000\n",
       "Name: Nota no coração da Gabs, dtype: float64"
      ]
     },
     "execution_count": 5,
     "metadata": {},
     "output_type": "execute_result"
    }
   ],
   "source": [
    "df['Nota no coração da Gabs'].describe()"
   ]
  },
  {
   "cell_type": "markdown",
   "metadata": {},
   "source": [
    "- e muitas outras coisas!\n",
    "\n",
    "_Para instalar:_\n",
    "\n",
    "Se você usar Anaconda, Pandas já vem no pacote. Se não, no prompt de comando digite:\n",
    "```\n",
    "pip install pandas\n",
    "```"
   ]
  },
  {
   "cell_type": "markdown",
   "metadata": {},
   "source": [
    "---\n",
    "**Numpy**\n",
    "\n",
    "Numpy é uma biblioteca de oferece diversas funções e operações matemáticas.\n",
    "\n",
    "Para explicar melhor: temos recipientes (`Series`, `DataFrame`, dicionários etc.) e, neles, colocamos objetos (no caso de números, `float` e `integer`). Numpy permite trabalhar melhor os objetos dentro dos recipientes. Como, por exemplo, transformar `float` em `integer`:"
   ]
  },
  {
   "cell_type": "code",
   "execution_count": 6,
   "metadata": {},
   "outputs": [
    {
     "data": {
      "text/plain": [
       "dtype('float64')"
      ]
     },
     "execution_count": 6,
     "metadata": {},
     "output_type": "execute_result"
    }
   ],
   "source": [
    "# Quais são os tipos de objetos dentro da coluna 'Nota no coração da Gabs':\n",
    "df['Nota no coração da Gabs'].dtype"
   ]
  },
  {
   "cell_type": "code",
   "execution_count": 7,
   "metadata": {},
   "outputs": [
    {
     "data": {
      "text/plain": [
       "dtype('int32')"
      ]
     },
     "execution_count": 7,
     "metadata": {},
     "output_type": "execute_result"
    }
   ],
   "source": [
    "# São são os tipos dos mesmos objetos depois de manipulados com Numpy:\n",
    "df['Nota no coração da Gabs'] = df['Nota no coração da Gabs'].astype(int)\n",
    "df['Nota no coração da Gabs'].dtype"
   ]
  },
  {
   "cell_type": "markdown",
   "metadata": {},
   "source": [
    "Viu só? Os números não mais são `float`, e sim `integer`. \n",
    "\n",
    "E como será que estão na nossa tabela?"
   ]
  },
  {
   "cell_type": "code",
   "execution_count": 8,
   "metadata": {},
   "outputs": [
    {
     "data": {
      "text/html": [
       "<div>\n",
       "<style scoped>\n",
       "    .dataframe tbody tr th:only-of-type {\n",
       "        vertical-align: middle;\n",
       "    }\n",
       "\n",
       "    .dataframe tbody tr th {\n",
       "        vertical-align: top;\n",
       "    }\n",
       "\n",
       "    .dataframe thead th {\n",
       "        text-align: right;\n",
       "    }\n",
       "</style>\n",
       "<table border=\"1\" class=\"dataframe\">\n",
       "  <thead>\n",
       "    <tr style=\"text-align: right;\">\n",
       "      <th></th>\n",
       "      <th>Nome</th>\n",
       "      <th>Estado de nascimento</th>\n",
       "      <th>Nota no coração da Gabs</th>\n",
       "    </tr>\n",
       "  </thead>\n",
       "  <tbody>\n",
       "    <tr>\n",
       "      <th>0</th>\n",
       "      <td>Anna Virginia</td>\n",
       "      <td>Rio de Janeiro</td>\n",
       "      <td>9</td>\n",
       "    </tr>\n",
       "    <tr>\n",
       "      <th>1</th>\n",
       "      <td>Ivan</td>\n",
       "      <td>São Paulo</td>\n",
       "      <td>8</td>\n",
       "    </tr>\n",
       "    <tr>\n",
       "      <th>2</th>\n",
       "      <td>Aline</td>\n",
       "      <td>Rio Grande do Sul</td>\n",
       "      <td>9</td>\n",
       "    </tr>\n",
       "  </tbody>\n",
       "</table>\n",
       "</div>"
      ],
      "text/plain": [
       "            Nome Estado de nascimento  Nota no coração da Gabs\n",
       "0  Anna Virginia       Rio de Janeiro                        9\n",
       "1           Ivan            São Paulo                        8\n",
       "2          Aline    Rio Grande do Sul                        9"
      ]
     },
     "execution_count": 8,
     "metadata": {},
     "output_type": "execute_result"
    }
   ],
   "source": [
    "df"
   ]
  },
  {
   "cell_type": "markdown",
   "metadata": {},
   "source": [
    "_Para instalar:_\n",
    "\n",
    "Se você usar Anaconda, Numpy já vem no pacote. Se não, no prompt de comando digite:\n",
    "\n",
    "`pip install pandas`"
   ]
  },
  {
   "cell_type": "markdown",
   "metadata": {},
   "source": [
    "---\n",
    "Nos próximos notebooks vamos estudar ambas as ferramentas de maneira prática: fazendo uma análise. Logo aviso quais bases vamos usar e disponibilizo aqui. Se tiver alguma sugestão, me avise.\n",
    "\n",
    "O primeiro notebook (`nb01_pandas.ipynb`) sai amanhã, 6 de março.\n",
    "\n",
    "Beijos."
   ]
  }
 ],
 "metadata": {
  "kernelspec": {
   "display_name": "Python 3",
   "language": "python",
   "name": "python3"
  },
  "language_info": {
   "codemirror_mode": {
    "name": "ipython",
    "version": 3
   },
   "file_extension": ".py",
   "mimetype": "text/x-python",
   "name": "python",
   "nbconvert_exporter": "python",
   "pygments_lexer": "ipython3",
   "version": "3.6.4"
  }
 },
 "nbformat": 4,
 "nbformat_minor": 2
}
